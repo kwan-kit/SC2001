{
 "cells": [
  {
   "cell_type": "code",
   "execution_count": 19,
   "id": "3ee96139",
   "metadata": {
    "scrolled": false
   },
   "outputs": [
    {
     "data": {
      "text/plain": [
       "array([4936, 8736, 3378, ..., 4569, 9915, 2584])"
      ]
     },
     "execution_count": 19,
     "metadata": {},
     "output_type": "execute_result"
    }
   ],
   "source": [
    "import numpy as np\n",
    "\n",
    "#change the threshold to np.inf to print everything but maximum array size allowed for the browser data limit is 100,000\n",
    "np.set_printoptions(threshold=1000)\n",
    "\n",
    "# Function to generate a random array based on input size and max value\n",
    "def generate_random_array(size, max_value):\n",
    "    return np.random.randint(1, max_value + 1, size)\n",
    "\n",
    "size = 10000\n",
    "max_value = 10000\n",
    "random_array = generate_random_array(size, max_value)\n",
    "random_array_merge = generate_random_array(size, max_value)\n",
    "\n",
    "random_array"
   ]
  },
  {
   "cell_type": "code",
   "execution_count": 20,
   "id": "3e4a0c62",
   "metadata": {
    "scrolled": false
   },
   "outputs": [
    {
     "data": {
      "text/plain": [
       "[array([ 841, 2958,  868, 4535, 2815, 3031, 2024, 4415, 1646, 1915, 2325,\n",
       "        4809, 1969, 4499, 3221, 2412, 1411, 4647, 4297,  283, 4656, 4987,\n",
       "        3365,  935,  402, 2767,  273, 4555, 3904, 3175, 4892,  582,   22,\n",
       "        2513, 1826, 4178, 4932, 3097, 1075, 4871, 4462, 2685,  894, 4693,\n",
       "        2682, 4822, 1477, 3886, 4747, 3243, 2576, 3362, 1717, 4303, 2958,\n",
       "        4049,  967, 4923, 3113, 4076, 4027, 1407, 2239, 4413, 2555,  859,\n",
       "         858, 1179, 3339, 3287, 2664, 2907, 1673, 4130, 4421, 2707, 2151,\n",
       "        4180,  967, 3643, 2894,  429, 2861, 1756,  962, 3862, 4312,  254,\n",
       "        1981, 4912, 4208, 2080,  507, 4274, 4612, 4516, 1056, 3190,  332,\n",
       "        2272, 4493,   66,  310,  126,  128, 1332, 1646, 4928, 3217, 1769,\n",
       "        1553,  847, 4512,  960, 1383, 1335, 1968, 3490, 2644, 1086, 1278,\n",
       "        3790,  225, 3105, 3812,   63, 2492,  786,  567, 3594, 1621, 4584,\n",
       "        1079, 1147, 1737, 3522, 1915, 4588, 3985, 1831, 2370,  936, 4006,\n",
       "        4931,   21, 3428, 2831, 2807, 1900, 2834, 2460, 3444, 3515,  781,\n",
       "        4027, 4641,  983, 1724, 3352, 1804, 1490, 1067, 1159, 3741, 2512,\n",
       "         648, 2772, 2680, 1189,  700, 2894, 3687, 1639, 3470,  737, 4548,\n",
       "        2799, 3927, 3710, 2877, 2374, 3444, 4752, 1414, 1388, 1257, 4977,\n",
       "        4040, 3554, 4809, 3486, 4513, 3707, 3892,  301, 4974, 2431, 3612,\n",
       "        4656, 2082,  801,  231, 4801, 1701,  486, 2389, 2630, 3395, 1679,\n",
       "        2567, 4154, 4905, 1938, 1491, 2047, 2643, 2011,  387, 3628, 3943,\n",
       "        1888, 2048, 2816, 1368, 3439,  360,  704, 1605, 2693, 2626, 1885,\n",
       "         172, 4538, 4768, 4260, 2941, 3332,  144,  878, 1983, 3982, 1260,\n",
       "        1995,   77,  835, 1814, 4398, 4098, 1811, 1730, 4575, 1908,  966,\n",
       "        3367, 3240,  944, 2354,  508,  127, 2893, 4270, 1282, 4833, 1397,\n",
       "         756, 1532, 3314, 4550, 4032,  924,   19, 3854, 2433, 1183,  745,\n",
       "        3968, 2101, 2310, 3610, 2959,  376, 4836, 1066, 3812, 1148, 3099,\n",
       "        4680, 2437, 3446, 4230, 2719, 2584, 4889,  238, 3676, 4513,  555,\n",
       "        4694, 4996, 3922, 4103, 1155, 1438, 1024, 3989,  708,   56,  132,\n",
       "        2666, 4144, 4092, 4374, 1398, 4713, 2954,  828, 1980, 1619, 4863,\n",
       "        4055, 2340, 2962,  931, 2789, 3812, 4228, 3225, 1511, 2220, 3452,\n",
       "        1301, 3259,  297, 1843, 3365, 4556,  142, 2688, 1391, 2009,  633,\n",
       "         447, 4662, 2468, 2819, 3969, 2789, 3593, 3202, 3053, 1849, 1229,\n",
       "        4092, 4857, 3920, 2410, 1537, 3737, 1960, 4482, 2051, 4675, 2195,\n",
       "        4984, 4068, 4504, 2952, 3325,  258, 2633, 3977, 1859, 4872, 3092,\n",
       "         428, 4343, 2558, 2443, 3306, 3618, 1100, 2762,  940, 4935, 2315,\n",
       "         821, 4715,  769, 3843, 4051, 3110, 3412, 4810, 3085, 2369, 2547,\n",
       "        3532, 3693, 2559, 4212, 2348, 1826, 2528, 4738,  615, 2305, 2010,\n",
       "        2585,   69,  716, 3555, 1645, 3597, 3768, 1651, 3804, 4690, 2333,\n",
       "         456, 2708, 3021,   82,  961, 4316,  331, 3039, 2903, 2128,  276,\n",
       "        1604, 4824, 1490,  301, 1909, 3576, 2163, 1048, 4473, 1794, 3837,\n",
       "         633, 2676, 2523, 1065,  879, 1552, 3290,  120, 1676, 4031, 3796,\n",
       "        1422,  592, 3109, 3041, 3559, 1036, 4208,  250,  119, 2989, 4044,\n",
       "        3360, 3132, 1182, 3518,  841, 2362, 4022, 4037, 2603,  379, 3017,\n",
       "        1507, 3318, 2198, 4822,  411, 3639, 1904, 1927, 2762, 1548, 3485,\n",
       "         996, 1038, 1872, 3172,  705, 4330, 3534, 2206, 2567, 4995, 2711,\n",
       "        1443, 4486,  286, 3600,  538, 1291, 4470,  870, 2129, 4393, 2669,\n",
       "        3182, 3233,  508, 1670, 4580, 3257, 4945,  606, 4276, 2121, 3098,\n",
       "        3768, 4363, 3887, 4688, 4583, 2149, 4225,  276,  528, 2278, 4657,\n",
       "        4006, 4978, 1954, 3903, 2122, 3992, 3934,  800, 3208, 1551, 1399,\n",
       "        2061, 4717, 2342, 2946,  655, 3967,  428, 3271, 4359,  916,  106,\n",
       "        3506,   91, 3498,  497, 3966, 1148, 1784, 4649, 1319, 3923, 3738,\n",
       "        1211, 2464,  957, 4929, 2007,  171,   33, 2543,  938,  248, 2591,\n",
       "        3187, 3606, 3969, 1298, 4129, 3831,  735,  276, 3528, 3805, 3217,\n",
       "         303, 1787, 2233, 2085, 3125, 1384, 3334,  339,  233, 2811,  297,\n",
       "        2631, 4301, 1049, 3020, 2803, 3451, 3898, 3987, 3445, 4223, 1257,\n",
       "         476, 3946, 2809,  671, 2921, 4318, 1090, 4037, 2927, 1148,  892,\n",
       "        2124, 3460,  395,  942,  891, 4766,  332, 4570,   56, 2758,  221,\n",
       "        1330, 4323, 2150, 3885, 1970,  848, 1599, 1327,  657, 3783, 3099,\n",
       "         960, 2274, 2939, 4409, 1725,  518, 4308, 4538, 1352, 1486, 4581,\n",
       "        4558, 4314, 1402, 2593, 4905, 4316, 2450, 2648, 1512, 1310, 3950,\n",
       "        1383, 1994, 4599,  432, 2719, 4374, 3327, 3241, 1702, 3237, 3757,\n",
       "        3341,  706, 1884, 1979,  200, 3009,  723, 4609, 4107,  207, 2416,\n",
       "        4704, 2498,  152, 2556, 4003, 4829,  655,  840, 1480, 1473, 3380,\n",
       "        4374, 1202, 2965,  915, 1940, 2018, 2580,  227, 2506, 3758, 2551,\n",
       "         841,  616, 2788, 4660,  314, 3403, 4136, 1290, 1210, 4608, 3410,\n",
       "         802,  364, 4719, 3296, 2835, 2487, 2839, 3044, 1224, 1498, 3004,\n",
       "        2806, 2616,  276, 4671, 3106, 2053, 1682,  135, 2093, 2032,  297,\n",
       "        3445, 1324, 3207, 2828, 2603, 2429, 1785, 4855, 2793, 1013, 4854,\n",
       "         245, 4734, 4415, 4752, 4101,   38, 2300,   72,  224, 4723, 1810,\n",
       "        3839, 4184, 4028,  431, 1624,  733, 1843,  500, 3110,  623, 3991,\n",
       "        3602,  572, 3833, 3213,  765, 3274, 2894,   54, 3339, 1020, 4129,\n",
       "         373, 3384, 1016, 4826, 2840,  928, 4903, 4323, 3950, 4861, 1821,\n",
       "        2220, 3169, 2963, 1768, 4185, 1000,  688, 3040, 1636, 2886, 4890,\n",
       "        1317, 4549, 1973, 3232,  595, 3772, 3671, 2808, 3184, 4362, 4412,\n",
       "        4449, 3704, 1796,  805, 3906,  579,  975, 2587, 1984, 2462,  167,\n",
       "        2373, 1648, 4804, 2556,  745, 1422, 2756, 4118, 2581, 2018, 4346,\n",
       "        2084, 4948, 1411, 3848, 1523, 2604, 1456, 2643, 3466, 4034, 4657,\n",
       "        4616, 3142, 3872, 2345,  798, 2387, 3664,  630, 4169,   53,  544,\n",
       "        4272, 1551, 2094, 3465, 1247, 3803,  731,  759, 3937, 1008, 2379,\n",
       "        4726, 2377, 3862, 1590, 2400, 4534,  829, 1292, 4505, 1294, 2544,\n",
       "        4732,  157, 1204,  635, 1922, 4991,  492,  939, 2813, 4186, 3179,\n",
       "         997, 2374, 4274,  820, 3858, 1013, 3233,  360, 4702, 4037, 2229,\n",
       "        1894, 3475, 1883, 3454,  375, 1962, 2728, 3709,  648, 4507,  339,\n",
       "        3843,  239,  893,  836, 1535, 4759, 1993, 2046, 3073, 4283,  344,\n",
       "        1886,  439,  622,  883, 4223, 3085, 3819, 4890, 3665, 4802, 2639,\n",
       "        2232, 2022, 2669, 1858, 3853,  716, 4880, 1998,  284,  418, 2058,\n",
       "        2819,  553, 1497, 1295, 1907, 2543, 4359, 2797, 3253, 1169, 3402,\n",
       "        4472, 4904, 3673,  893, 1197, 1142, 3093, 3519, 4738, 3162, 2849,\n",
       "        1957, 1393, 4852, 1859, 3773, 1378, 2065, 3240, 2158, 3915,  599,\n",
       "        3141,  398, 2094, 2132, 4753, 3637, 2392,  941, 4662, 2027,  747,\n",
       "        4333, 3935, 4133, 4451, 3649, 4820,  430, 1812, 1219, 1677]),\n",
       " array([4821, 4932, 1282, ..., 1928, 2128, 2136]),\n",
       " array([2199, 3952, 1232, ..., 3691,   60, 4936]),\n",
       " array([2051, 1860, 4540, ..., 2465, 1102, 1398]),\n",
       " array([4000, 2252, 4429, ..., 3792, 4158, 2926])]"
      ]
     },
     "execution_count": 20,
     "metadata": {},
     "output_type": "execute_result"
    }
   ],
   "source": [
    "import numpy as np\n",
    "\n",
    "# Function to generate the dataset with the arrays \n",
    "def generate_datasets(limit):\n",
    "    dataset = []\n",
    "    sizes = [1000,10000,100000,1000000,10000000] #size of the arrays\n",
    "    for size in sizes:\n",
    "        dataset.append(np.random.randint(1, limit + 1, size))\n",
    "    return dataset\n",
    "\n",
    "limit = 5000  # You can specify the limit here\n",
    "datasets = generate_datasets(limit)\n",
    "datasets\n"
   ]
  },
  {
   "cell_type": "code",
   "execution_count": 21,
   "id": "7d3cb354",
   "metadata": {},
   "outputs": [
    {
     "name": "stdout",
     "output_type": "stream",
     "text": [
      "Sorted array: [    1     1     5 ...  9999  9999 10000], Key Comparisons: 25020581\n"
     ]
    }
   ],
   "source": [
    "def insertion_sort(arr):\n",
    "    n = len(arr)\n",
    "    comparison_count = 0\n",
    "    \n",
    "    #checking for array size\n",
    "    if (n>1): \n",
    "        for i in range (1,n):\n",
    "            for j in range (i,0,-1):\n",
    "                comparison_count+=1\n",
    "                \n",
    "                #condition for swapping \n",
    "                if(arr[j]<arr[j-1]):\n",
    "                    \n",
    "                    #in-place swapping\n",
    "                    arr[j],arr[j-1] = arr[j-1],arr[j] \n",
    "                else:\n",
    "                    break\n",
    "    # print(f\"Comparison Count: {comparison_count}\")\n",
    "    # print(arr) - use this to remove the array wrapper\n",
    "    return arr, comparison_count\n",
    "\n",
    "sorted_array = insertion_sort(random_array.copy())\n",
    "\n",
    "sorted_array_insertion, comparison_count = sorted_array[0], sorted_array[1]\n",
    "print(f\"Sorted array: {sorted_array_insertion}, Key Comparisons: {comparison_count}\")"
   ]
  },
  {
   "cell_type": "code",
   "execution_count": 22,
   "id": "6f37a778",
   "metadata": {},
   "outputs": [
    {
     "name": "stdout",
     "output_type": "stream",
     "text": [
      "Sorted array: [    1     1     5 ...  9999  9999 10000], Key Comparisons: 116600\n"
     ]
    }
   ],
   "source": [
    "def merge(arr, mid):\n",
    "    global keyComp_merge\n",
    "    \n",
    "    i = 0     # First element in left half\n",
    "    j = mid   # First element in right half\n",
    "    temp = 0  # Temporary storage for swapping elements\n",
    "    left = right = 0  # Count for left and right\n",
    "    while (left < len(arr)//2 and right < len(arr)/2): # Loop until at least one half is sorted\n",
    "        if (arr[i] < arr[j]):           # If left < right, shift left pointer\n",
    "            i += 1\n",
    "            left += 1\n",
    "        elif (arr[i] > arr[j]):         # If left > right\n",
    "            temp = arr[j];              # Store right in temp\n",
    "            arr[i+1:j+1] = arr[i:j]     # Shift array one slot right\n",
    "            arr[i] = temp               # Load right into first unsorted element / last sorted element\n",
    "            i += 1\n",
    "            j += 1\n",
    "            right += 1\n",
    "        else:                           # If left == right\n",
    "            arr[i+1:j+1] = arr[i:j]     # Shift unsorted left array one slot right\n",
    "            i += 2                      # increment left pointer two times (2 sorted elements)\n",
    "            j += 1\n",
    "            left += 1\n",
    "            right += 1\n",
    "        keyComp_merge += 1                    # Each iteration of the while loop is 1 Key Comparison\n",
    "    \n",
    "    return arr\n",
    "\n",
    "def merge_sort(arr):\n",
    "    \n",
    "    if len(arr) <= 1: # Trivial Case\n",
    "        return arr\n",
    "\n",
    "    else:\n",
    "        mid = len(arr) // 2\n",
    "        arr[:mid] = merge_sort(arr[:mid]) #Recursively perform merge sort on left half\n",
    "        arr[mid:] = merge_sort(arr[mid:]) #Recursively perform merge sort on right half\n",
    "\n",
    "        arr = merge(arr, mid)\n",
    "\n",
    "        return arr\n",
    "\n",
    "\n",
    "\n",
    "\n",
    "\n",
    "# Example usage:\n",
    "\n",
    "keyComp_merge = 0\n",
    "\n",
    "#print(f\"Original array: {arr}\")\n",
    "\n",
    "sorted_arr_merge = merge_sort(random_array.copy())\n",
    "print(f\"Sorted array: {sorted_arr_merge}, Key Comparisons: {keyComp_merge}\")\n"
   ]
  },
  {
   "cell_type": "code",
   "execution_count": 23,
   "id": "6928e134",
   "metadata": {},
   "outputs": [
    {
     "name": "stdout",
     "output_type": "stream",
     "text": [
      "Insertion sort is sorted:  True\n",
      "Merge sort is sorted:  True\n"
     ]
    }
   ],
   "source": [
    "def is_sorted(arr):\n",
    "    if all(arr[i] <= arr[i+1] for i in range(len(arr) - 1)):\n",
    "      return True\n",
    "    else:\n",
    "      return False\n",
    "\n",
    "print(\"Insertion sort is sorted: \", is_sorted(sorted_array_insertion))\n",
    "print(\"Merge sort is sorted: \", is_sorted(sorted_arr_merge))"
   ]
  },
  {
   "cell_type": "code",
   "execution_count": 26,
   "id": "307deba8",
   "metadata": {},
   "outputs": [
    {
     "name": "stdout",
     "output_type": "stream",
     "text": [
      "Sorted Array: [    1     1     5 ...  9999  9999 10000], Key Comparisons: 123146\n"
     ]
    }
   ],
   "source": [
    "s = 10 #integer s is the threshold below which mergersort will switch to insertion sort \n",
    "\n",
    "def hybrid_sort(arr):\n",
    "    global keyComp_insert\n",
    "\n",
    "    if(len(arr) <= s): #if length of array is less than s, use insertion sort\n",
    "        sorted_array = insertion_sort(arr)\n",
    "        arr, comp = sorted_array[0], sorted_array[1]\n",
    "        keyComp_insert += comp\n",
    "        return arr\n",
    "\n",
    "    else:              #else use mergesort\n",
    "        mid = len(arr)//2\n",
    "        arr[ :mid] = hybrid_sort(arr[ :mid])\n",
    "        arr[mid: ] = hybrid_sort(arr[mid: ])\n",
    "        \n",
    "        arr = merge(arr,mid)\n",
    "        return arr\n",
    "\n",
    "\n",
    "keyComp_insert = 0\n",
    "keyComp_merge = 0\n",
    "\n",
    "sorted_array_hybrid = hybrid_sort(random_array.copy())   #run hybrid sort on a copy of random_array\n",
    "keyComp_hybrid = keyComp_insert + keyComp_merge          #total number of comparisons\n",
    "\n",
    "print(f\"Sorted Array: {sorted_array_hybrid}, Key Comparisons: {keyComp_hybrid}\")"
   ]
  },
  {
   "cell_type": "code",
   "execution_count": 25,
   "id": "8edd4f37",
   "metadata": {},
   "outputs": [
    {
     "name": "stdout",
     "output_type": "stream",
     "text": [
      "Hybrid sort is sorted:  True\n"
     ]
    }
   ],
   "source": [
    "def is_sorted(arr):\n",
    "    if all(arr[i] <= arr[i+1] for i in range(len(arr) - 1)):\n",
    "      return True\n",
    "    else:\n",
    "      return False\n",
    "\n",
    "print(\"Hybrid sort is sorted: \", is_sorted(sorted_array_hybrid))"
   ]
  }
 ],
 "metadata": {
  "kernelspec": {
   "display_name": "Python 3 (ipykernel)",
   "language": "python",
   "name": "python3"
  },
  "language_info": {
   "codemirror_mode": {
    "name": "ipython",
    "version": 3
   },
   "file_extension": ".py",
   "mimetype": "text/x-python",
   "name": "python",
   "nbconvert_exporter": "python",
   "pygments_lexer": "ipython3",
   "version": "3.11.4"
  }
 },
 "nbformat": 4,
 "nbformat_minor": 5
}
