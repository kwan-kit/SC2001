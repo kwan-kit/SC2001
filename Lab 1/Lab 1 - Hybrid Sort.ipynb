{
 "cells": [
  {
   "cell_type": "code",
   "execution_count": 7,
   "id": "3ee96139",
   "metadata": {
    "scrolled": false
   },
   "outputs": [
    {
     "data": {
      "text/plain": [
       "array([8855, 8037, 7674, ..., 4905, 3298, 4705])"
      ]
     },
     "execution_count": 7,
     "metadata": {},
     "output_type": "execute_result"
    }
   ],
   "source": [
    "import numpy as np\n",
    "\n",
    "#change the threshold to np.inf to print everything but maximum array size allowed for the browser data limit is 100,000\n",
    "np.set_printoptions(threshold=1000)\n",
    "\n",
    "# Function to generate a random array based on input size and max value\n",
    "def generate_random_array(size, max_value):\n",
    "    return np.random.randint(1, max_value + 1, size)\n",
    "\n",
    "size = 10000\n",
    "max_value = 10000\n",
    "random_array = generate_random_array(size, max_value)\n",
    "random_array_merge = generate_random_array(size, max_value)\n",
    "\n",
    "random_array"
   ]
  },
  {
   "cell_type": "code",
   "execution_count": 4,
   "id": "3e4a0c62",
   "metadata": {
    "scrolled": false
   },
   "outputs": [
    {
     "data": {
      "text/plain": [
       "[array([ 503, 4456, 1271, 2125, 2323,  589, 4911, 4821,  823, 1638, 4321,\n",
       "        1377, 4134, 4706, 4545,    1, 3116,  633,  589, 3949, 4278,   68,\n",
       "         702, 1728, 4335,  172, 1565, 1892, 2709, 2760, 2674,  250, 4457,\n",
       "        4830, 1767, 1910, 3478, 2011, 3728, 4794, 2365, 4919, 2858, 1919,\n",
       "        2438, 4939, 4738, 1080, 2055, 2625, 2684, 2367, 1253, 3520,  886,\n",
       "        4796, 1023, 2027, 1183, 2445, 1856, 4923, 3451, 2918, 1686, 2033,\n",
       "         258, 3216, 1393, 2134, 2838, 3600, 2634, 3292, 3021, 2078,  386,\n",
       "        1277, 3811,  842, 1607, 2734, 1947,  682, 4365, 4941,  618, 2463,\n",
       "        4076, 2163,  207, 1528, 1175, 2015, 2868, 4432,  147,  153, 1939,\n",
       "        1061, 4823,  770, 3594, 3733, 3467,  258, 3608, 3030, 1701, 3382,\n",
       "        3145,  725,  597, 2166, 2758, 2573, 1240, 1639, 3899, 3981, 4238,\n",
       "        4500,  554, 1023, 4163, 2667, 3198, 4233, 1762, 4413,  909, 3204,\n",
       "        1235, 4446, 3411,   61, 3343, 4008, 3005, 2537, 3306,  793, 2828,\n",
       "        2289, 4097, 3277, 3412, 3848, 3056,   39,  430, 4174, 1442, 2651,\n",
       "        3599, 2849, 2130, 3812, 2095, 3619, 4659,  672, 3601, 4772, 4797,\n",
       "         942,  771, 2002, 1622, 1692, 1891, 1147, 3012,  938, 2303, 1804,\n",
       "        2464, 2257, 4662, 4445, 1398, 4597, 2037, 4698, 4610,  723,  103,\n",
       "        2889, 2178, 1370, 1854,  781, 2404, 4321, 4946, 4801, 2219, 2540,\n",
       "         192, 3367, 4013, 1846, 3071, 3838, 1702, 2343, 2690, 3237, 2498,\n",
       "        2219, 1953, 4087, 4002, 3487,  719,  438, 2424, 1369,  143, 2618,\n",
       "         167, 2139, 3096,  870, 3342,  883, 3990,  236, 2379,  962, 2579,\n",
       "        4074, 3594,  755,  833, 2657, 1449,  414, 4524, 1040, 1200,  508,\n",
       "        4715, 4494, 3437, 4276, 4317, 3167,  419, 1228, 2940, 1137, 4207,\n",
       "        3481, 4800, 1469, 2477,  140, 3916, 2487,  624,   55, 2344, 2283,\n",
       "         112, 4284,   52, 3087, 1245, 4487, 3686, 3440, 3958, 3839, 2712,\n",
       "        2483, 3431,  884,  909, 4021, 1841, 1590,  591, 1394, 3814, 1440,\n",
       "        2244,  782, 4735, 3406, 2120, 4674, 4669, 2387,   60, 2759, 1554,\n",
       "        2825, 2551, 2383,  659, 2362,  942, 4225, 3267,  492, 1877, 4540,\n",
       "        1229, 4215, 2103, 1327, 2638, 4276, 1318,    6, 1094, 2530,  252,\n",
       "        2316,  484, 2145, 2325, 4922, 3638,  249, 1612, 3339, 1845, 2420,\n",
       "        1844, 1381, 3396,  362,  877, 4667, 4138, 2605, 3581, 4536, 4888,\n",
       "        4820, 3318, 2299, 4472, 3496, 4325, 1909,  325, 3443, 1519, 2093,\n",
       "        3995, 3276, 3346, 3488, 4003, 3833, 1773, 3752, 2404, 4941, 1744,\n",
       "        3271, 2886, 3444,  837, 3117, 3654, 1106, 3124, 4639, 2915, 4335,\n",
       "        4602,  954, 3019, 4529, 4993,  451, 4860,  125, 3171, 2319,  244,\n",
       "         444, 4949, 2608, 1122, 2781, 3640, 4596,  293, 4810,  194, 3174,\n",
       "        3841, 3475, 2078, 2839, 1539, 3483, 3614,  781, 3967,  199, 2798,\n",
       "        3881, 4606, 4142, 2806, 4388, 1985, 4383, 3222, 3177, 1623,  739,\n",
       "         993,  195, 4666, 2129, 2206,  516, 4016, 3327, 4342, 4902, 1830,\n",
       "        4679, 4302,   62, 3113, 1431, 1612,  598,  453, 2835, 2425, 4642,\n",
       "        3703,  585, 2314, 2560, 1259, 3831, 1484, 4404, 4331,  832, 2420,\n",
       "        4618, 4715, 4102, 2812, 4053, 2782, 3717, 1301,  702, 2030,  937,\n",
       "        2670, 2431, 3138, 1902,  474, 4522, 3409,  319, 3415, 3799, 4309,\n",
       "        4860, 2978, 1658,  478, 3490, 2825,   95, 3548, 4401, 2539, 1592,\n",
       "        2482, 2629, 3121,  198, 2966,  904, 2248,  575, 2242, 1920,  311,\n",
       "        3262, 4012, 3949, 1031, 3762,  656,  280, 2720, 4243, 1759, 4779,\n",
       "        4807, 4553,  713, 2065, 4148,  171, 1515, 3428, 3607, 3702, 1486,\n",
       "         192, 3534, 2807, 2205, 4033, 4964,  501, 2580, 1471, 3387, 1684,\n",
       "        4429, 4690, 4263,  419, 3399,  551,  139,  502, 2182, 3839, 4667,\n",
       "        1385, 2587, 2083, 1160,  162, 2837, 2236,  168, 1730, 1751,  569,\n",
       "           9, 3124, 1068, 1692,  195, 3377, 4990, 3324, 3665, 3944, 4537,\n",
       "         690,   28, 2393, 2824, 1495,  791,  212, 1517, 3687, 3264, 2943,\n",
       "        2446, 2644,  124, 4235,  284, 2200, 1744, 4628, 3045, 3801, 2163,\n",
       "         704, 4508, 1183, 4971,  554, 3517,  276, 4475, 1557, 2791, 4807,\n",
       "        2814, 2393, 2354,  582, 2860,  533, 4714, 1587, 1489, 2997, 2782,\n",
       "        2248, 4277, 3824, 4803, 2032, 1964, 3561,  925, 4014, 2650, 4125,\n",
       "        2798, 2632, 3907, 4934, 4569, 3221, 2648, 3733,   27, 4810, 1603,\n",
       "        2030, 4518, 4301, 1796, 4982, 3836, 1982, 4449, 1651, 1402, 3650,\n",
       "        1806,  496,  894, 3035,  860,   51, 4899, 1412, 3738, 1053, 1559,\n",
       "        2564, 2420, 4083,  988, 4506,  625, 1175, 3072, 3358, 1255, 3679,\n",
       "        4874, 3194,  978, 4744, 3931, 2066,  439, 3684, 4378, 1672, 1342,\n",
       "        2418, 4308, 2217, 3485, 1535, 1359, 4676, 2429, 4820, 4913, 4282,\n",
       "        3494,  275, 3436, 4795, 2883,  834, 3405, 3208, 3013, 2694, 2715,\n",
       "        1090,  885,  958,  146, 2240, 2521, 2879, 3763, 2868, 3582, 2763,\n",
       "        2720,  295, 4495, 2235, 4655, 4873, 1103, 4032,  924, 1649, 3831,\n",
       "        2962, 4566, 1917,  830, 3457,  100,   93,  703,  960, 1191, 4000,\n",
       "        1367,  360, 4254,  388, 1083, 3709, 3276, 3352, 1338, 2371, 2037,\n",
       "        1253, 4102, 3284, 1680,  676, 1063, 3247,  352, 2768, 1322,  606,\n",
       "        4070, 1944, 4364, 3472,  424, 1232,  552, 2700, 4436,  368,   89,\n",
       "        3995,   11, 1316, 2801, 3558,  441,  822, 3653, 2393, 4273, 2130,\n",
       "        4629, 3251, 4300, 3645,  776, 3935, 4824,  299, 2943, 4953, 2570,\n",
       "        4724, 4789, 4673, 1838, 4442, 2454, 3894,  352, 4972, 4782,  418,\n",
       "        2525, 4580,  832,  133, 2338, 4779, 4980, 3517,  359, 2989, 1687,\n",
       "        2522,  492, 3829,  100, 4958, 3964, 1706, 3004, 4800, 2031,  564,\n",
       "        1555, 3371, 3677, 3836,  560, 4437, 3702, 1697, 1098, 3908, 3859,\n",
       "        3729, 3946, 4125, 2261, 4515, 1621, 2861, 3510, 4371, 1598, 3293,\n",
       "        1158,  446, 3752, 2749,  311,  348, 1250, 2235, 1002, 1757, 3121,\n",
       "        4942, 3739,  519, 2359, 3192, 1756,  459, 3327, 4966, 2373,  259,\n",
       "        2224, 3364, 4195, 1579, 4832, 1068,  782, 4000, 4087, 2980, 3628,\n",
       "        4622, 4013, 3055, 2667, 3986, 2599, 4924, 1748, 1407,  695, 4478,\n",
       "          18, 1730, 1332, 4896,  438, 3571, 4384, 4111,  730, 3472, 2154,\n",
       "        1981, 4758, 2560,  191,  823, 4099, 1327,  685, 4407,  880,  585,\n",
       "         930, 2149, 3934, 3136, 4971,  280, 2619,  559,   56, 4403, 2234,\n",
       "        4759, 1291, 3765, 1188, 3897, 3228, 2500, 2825, 2829, 1727, 3159,\n",
       "        4574, 3375, 3847, 2574, 3557, 1378, 4230, 2912, 4785, 1791, 1008,\n",
       "        3094, 4858,  483, 4832, 2060, 4753, 1333,  589,  339, 3803, 4116,\n",
       "        3376,  231, 3374, 1842, 3633, 2741, 1399, 1801, 3571, 4809,  355,\n",
       "        1128,  867, 4499, 3657, 2063,  810, 1175, 3071, 1006, 4465, 4603,\n",
       "        3722, 3938, 2741,  862, 3887, 2343, 2739,  560,  101, 4117, 3197,\n",
       "        2555, 1091,  259, 2864, 2928, 3491, 1199, 3430, 4892, 1310, 4875,\n",
       "        2367, 4201, 3543, 2064, 4700,  952, 2564, 2041, 2006, 1772]),\n",
       " array([3016, 4991, 2795, ..., 1525, 3277, 3235]),\n",
       " array([ 504,  913, 4744, ..., 1368,  352,  877]),\n",
       " array([3769, 3487, 4823, ..., 2769, 3671, 4829]),\n",
       " array([3079, 3832,  590, ..., 2706, 4846, 3983])]"
      ]
     },
     "execution_count": 4,
     "metadata": {},
     "output_type": "execute_result"
    }
   ],
   "source": [
    "import numpy as np\n",
    "\n",
    "# Function to generate the dataset with the arrays \n",
    "def generate_datasets(limit):\n",
    "    dataset = []\n",
    "    sizes = [1000,10000,100000,1000000,10000000] #size of the arrays\n",
    "    for size in sizes:\n",
    "        dataset.append(np.random.randint(1, limit + 1, size))\n",
    "    return dataset\n",
    "\n",
    "limit = 5000  # You can specify the limit here\n",
    "datasets = generate_datasets(limit)\n",
    "datasets\n"
   ]
  },
  {
   "cell_type": "code",
   "execution_count": 11,
   "id": "7d3cb354",
   "metadata": {},
   "outputs": [
    {
     "name": "stdout",
     "output_type": "stream",
     "text": [
      "Comparison Count: 25354349\n"
     ]
    }
   ],
   "source": [
    "def insertion_sort(arr):\n",
    "    n = len(arr)\n",
    "    comparison_count = 0\n",
    "    \n",
    "    #checking for array size\n",
    "    if (n>1): \n",
    "        for i in range (1,n):\n",
    "            for j in range (i,0,-1):\n",
    "                comparison_count+=1\n",
    "                \n",
    "                #condition for swapping \n",
    "                if(arr[j]<arr[j-1]):\n",
    "                    \n",
    "                    #in-place swapping\n",
    "                    arr[j],arr[j-1] = arr[j-1],arr[j] \n",
    "                else:\n",
    "                    break\n",
    "    print(f\"Comparison Count: {comparison_count}\")\n",
    "    # print(arr) - use this to remove the array wrapper\n",
    "    return arr\n",
    "\n",
    "sorted_array_insertion = insertion_sort(random_array) "
   ]
  },
  {
   "cell_type": "code",
   "execution_count": 12,
   "id": "6f37a778",
   "metadata": {},
   "outputs": [
    {
     "name": "stdout",
     "output_type": "stream",
     "text": [
      "Sorted array: [   2    4    5 ... 9994 9994 9995], Key Comparisons: 64608\n"
     ]
    }
   ],
   "source": [
    "def merge(arr, mid):\n",
    "    global keyComp\n",
    "    \n",
    "    i = 0     # First element in left half\n",
    "    j = mid   # First element in right half\n",
    "    temp = 0  # Temporary storage for swapping elements\n",
    "    left = right = 0  # Count for left and right\n",
    "    while (left < len(arr)//2 and right < len(arr)/2): # Loop until at least one half is sorted\n",
    "        if (arr[i] < arr[j]):           # If left < right, shift left pointer\n",
    "            i += 1\n",
    "            left += 1\n",
    "        elif (arr[i] > arr[j]):         # If left > right\n",
    "            temp = arr[j];              # Store right in temp\n",
    "            arr[i+1:j+1] = arr[i:j]     # Shift array one slot right\n",
    "            arr[i] = temp               # Load right into first unsorted element / last sorted element\n",
    "            i += 1\n",
    "            j += 1\n",
    "            right += 1\n",
    "        else:                           # If left == right\n",
    "            arr[i+1:j+1] = arr[i:j]     # Shift unsorted left array one slot right\n",
    "            i += 2                      # increment left pointer two times (2 sorted elements)\n",
    "            j += 1\n",
    "            left += 1\n",
    "            right += 1\n",
    "        keyComp += 1                    # Each iteration of the while loop is 1 Key Comparison\n",
    "    \n",
    "    return arr\n",
    "\n",
    "def merge_sort(arr):\n",
    "    \n",
    "    if len(arr) <= 1: # Trivial Case\n",
    "        return arr\n",
    "\n",
    "    else:\n",
    "        mid = len(arr) // 2\n",
    "        arr[:mid] = merge_sort(arr[:mid]) #Recursively perform merge sort on left half\n",
    "        arr[mid:] = merge_sort(arr[mid:]) #Recursively perform merge sort on right half\n",
    "\n",
    "        arr = merge(arr, mid)\n",
    "\n",
    "        return arr\n",
    "\n",
    "\n",
    "\n",
    "\n",
    "\n",
    "# Example usage:\n",
    "\n",
    "\n",
    "keyComp = 0\n",
    "\n",
    "#print(f\"Original array: {arr}\")\n",
    "sorted_arr_merge = merge_sort(random_array_merge)\n",
    "print(f\"Sorted array: {sorted_arr_merge}, Key Comparisons: {keyComp}\")\n"
   ]
  },
  {
   "cell_type": "code",
   "execution_count": 16,
   "id": "6928e134",
   "metadata": {},
   "outputs": [
    {
     "name": "stdout",
     "output_type": "stream",
     "text": [
      "Insertion sort is sorted:  True\n",
      "Merge sort is sorted:  True\n"
     ]
    }
   ],
   "source": [
    "def is_sorted(arr):\n",
    "    if all(arr[i] <= arr[i+1] for i in range(len(arr) - 1)):\n",
    "      return True\n",
    "    else:\n",
    "      return False\n",
    "\n",
    "print(\"Insertion sort is sorted: \", is_sorted(sorted_array_insertion))\n",
    "print(\"Merge sort is sorted: \", is_sorted(sorted_arr_merge))"
   ]
  },
  {
   "cell_type": "code",
   "execution_count": null,
   "id": "307deba8",
   "metadata": {},
   "outputs": [],
   "source": []
  }
 ],
 "metadata": {
  "kernelspec": {
   "display_name": "Python 3 (ipykernel)",
   "language": "python",
   "name": "python3"
  },
  "language_info": {
   "codemirror_mode": {
    "name": "ipython",
    "version": 3
   },
   "file_extension": ".py",
   "mimetype": "text/x-python",
   "name": "python",
   "nbconvert_exporter": "python",
   "pygments_lexer": "ipython3",
   "version": "3.12.3"
  }
 },
 "nbformat": 4,
 "nbformat_minor": 5
}
