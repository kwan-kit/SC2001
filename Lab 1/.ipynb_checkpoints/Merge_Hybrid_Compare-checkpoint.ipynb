{
 "cells": [
  {
   "cell_type": "code",
   "execution_count": 1,
   "id": "c56b39b9",
   "metadata": {
    "id": "c56b39b9"
   },
   "outputs": [],
   "source": [
    "import numpy as np\n",
    "import pandas as pd\n",
    "import time as time\n",
    "import statistics as stat\n",
    "import matplotlib.pyplot as plt"
   ]
  },
  {
   "cell_type": "code",
   "execution_count": 2,
   "id": "20a973f6",
   "metadata": {
    "id": "20a973f6"
   },
   "outputs": [],
   "source": [
    "#Overall hybrid sort code\n",
    "\n",
    "def insertion_sort(arr):\n",
    "    n = len(arr)\n",
    "    comparison_count = 0\n",
    "\n",
    "    if n > 1:\n",
    "        for i in range(1, n):\n",
    "            for j in range(i, 0, -1):\n",
    "                comparison_count += 1\n",
    "\n",
    "                if arr[j] < arr[j-1]:\n",
    "                    arr[j], arr[j-1] = arr[j-1], arr[j]\n",
    "                else:\n",
    "                    break\n",
    "    return arr, comparison_count\n",
    "\n",
    "def merge(arr, mid):\n",
    "    global keyComp_merge\n",
    "\n",
    "    # Split array into left and right halves using slicing\n",
    "    left_half = arr[:mid]\n",
    "    right_half = arr[mid:]\n",
    "\n",
    "    i = j = 0  # Pointers for left and right halves\n",
    "    temp = []  # Use an empty list for temporary storage\n",
    "\n",
    "    # Merge the two halves\n",
    "    while i < len(left_half) and j < len(right_half):\n",
    "        keyComp_merge += 1\n",
    "        if left_half[i] <= right_half[j]:\n",
    "            temp.append(left_half[i])  # Append the smaller element to temp\n",
    "            i += 1\n",
    "        else:\n",
    "            temp.append(right_half[j])\n",
    "            j += 1\n",
    "\n",
    "    # Append any remaining elements from left_half\n",
    "    temp.extend(left_half[i:])\n",
    "\n",
    "    # Append any remaining elements from right_half\n",
    "    temp.extend(right_half[j:])\n",
    "\n",
    "    # Copy the sorted elements back to the original array\n",
    "    arr[:] = temp[:]\n",
    "\n",
    "\n",
    "def hybrid_sort(arr, s):\n",
    "    global keyComp_insert\n",
    "\n",
    "    # Base case: Use insertion sort for small arrays\n",
    "    if len(arr) <= s:\n",
    "        sorted_array, comp = insertion_sort(arr)\n",
    "        arr[:] = sorted_array\n",
    "        keyComp_insert += comp\n",
    "        return arr\n",
    "    else:\n",
    "        mid = len(arr) // 2\n",
    "        # Recursively apply hybrid_sort to the left and right halves\n",
    "        hybrid_sort(arr[:mid], s)\n",
    "        hybrid_sort(arr[mid:], s)\n",
    "        # Merge the two sorted halves\n",
    "        merge(arr, mid)\n",
    "        return arr"
   ]
  },
  {
   "cell_type": "code",
   "execution_count": 3,
   "id": "pS3csFulKv6l",
   "metadata": {
    "id": "pS3csFulKv6l"
   },
   "outputs": [],
   "source": [
    "def merge_sort(arr):\n",
    "\n",
    "    if len(arr) <= 1:\n",
    "        return arr\n",
    "    else:\n",
    "        mid = len(arr) // 2\n",
    "        # Recursively apply hybrid_sort to the left and right halves\n",
    "        merge_sort(arr[:mid])\n",
    "        merge_sort(arr[mid:])\n",
    "        # Merge the two sorted halves\n",
    "        merge(arr, mid)\n",
    "        return arr"
   ]
  },
  {
   "cell_type": "code",
   "execution_count": 4,
   "id": "bed4f3d1",
   "metadata": {},
   "outputs": [],
   "source": [
    "results_10m_merge = list()\n",
    "results_10m_hybrid = list()\n",
    "i=1\n",
    "\n",
    "for s in [13,13,13]:\n",
    "    testSet = np.random.randint(1, 10000000 + 1, 10000000)\n",
    "    \n",
    "    keyComp_insert = 0\n",
    "    keyComp_merge = 0\n",
    "    start_time = time.time()\n",
    "    sorted_array_hybrid = hybrid_sort(testSet.copy(),s)\n",
    "    end_time= time.time()\n",
    "    \n",
    "    elapsed_time = end_time - start_time\n",
    "    keyComp_hybrid = keyComp_insert + keyComp_merge\n",
    "\n",
    "    results_10m_hybrid.append({'Iteration': i,\n",
    "                               'runtime': elapsed_time,\n",
    "                               'keyComp': keyComp_hybrid,\n",
    "                              })\n",
    "    df_10m_hybrid = pd.DataFrame(results_10m_hybrid)\n",
    "    \n",
    "    keyComp_insert = 0\n",
    "    keyComp_merge = 0\n",
    "    start_time = time.time()\n",
    "    sorted_array_merge = merge_sort(testSet.copy())\n",
    "    end_time= time.time()\n",
    "    \n",
    "    elapsed_time = end_time - start_time\n",
    "    results_10m_merge.append({'Iteration': i,\n",
    "                              'runtime': elapsed_time,\n",
    "                              'keyComp': keyComp_merge\n",
    "                              })\n",
    "    df_10m_merge = pd.DataFrame(results_10m_merge)\n",
    "    \n",
    "    i+=1\n",
    "    "
   ]
  },
  {
   "cell_type": "code",
   "execution_count": 5,
   "id": "ba5e752e",
   "metadata": {},
   "outputs": [
    {
     "name": "stdout",
     "output_type": "stream",
     "text": [
      "Results for Hybrid Sort\n"
     ]
    },
    {
     "data": {
      "text/html": [
       "<div>\n",
       "<style scoped>\n",
       "    .dataframe tbody tr th:only-of-type {\n",
       "        vertical-align: middle;\n",
       "    }\n",
       "\n",
       "    .dataframe tbody tr th {\n",
       "        vertical-align: top;\n",
       "    }\n",
       "\n",
       "    .dataframe thead th {\n",
       "        text-align: right;\n",
       "    }\n",
       "</style>\n",
       "<table border=\"1\" class=\"dataframe\">\n",
       "  <thead>\n",
       "    <tr style=\"text-align: right;\">\n",
       "      <th></th>\n",
       "      <th>Iteration</th>\n",
       "      <th>runtime</th>\n",
       "      <th>keyComp</th>\n",
       "    </tr>\n",
       "  </thead>\n",
       "  <tbody>\n",
       "    <tr>\n",
       "      <th>0</th>\n",
       "      <td>1</td>\n",
       "      <td>77.774174</td>\n",
       "      <td>226413394</td>\n",
       "    </tr>\n",
       "    <tr>\n",
       "      <th>1</th>\n",
       "      <td>2</td>\n",
       "      <td>75.661330</td>\n",
       "      <td>226420211</td>\n",
       "    </tr>\n",
       "    <tr>\n",
       "      <th>2</th>\n",
       "      <td>3</td>\n",
       "      <td>76.012797</td>\n",
       "      <td>226413859</td>\n",
       "    </tr>\n",
       "  </tbody>\n",
       "</table>\n",
       "</div>"
      ],
      "text/plain": [
       "   Iteration    runtime    keyComp\n",
       "0          1  77.774174  226413394\n",
       "1          2  75.661330  226420211\n",
       "2          3  76.012797  226413859"
      ]
     },
     "execution_count": 5,
     "metadata": {},
     "output_type": "execute_result"
    }
   ],
   "source": [
    "print(\"Results for Hybrid Sort\")\n",
    "df_10m_hybrid\n"
   ]
  },
  {
   "cell_type": "code",
   "execution_count": 6,
   "id": "e56c63b5",
   "metadata": {},
   "outputs": [
    {
     "name": "stdout",
     "output_type": "stream",
     "text": [
      "Results for Merge Sort\n"
     ]
    },
    {
     "data": {
      "text/html": [
       "<div>\n",
       "<style scoped>\n",
       "    .dataframe tbody tr th:only-of-type {\n",
       "        vertical-align: middle;\n",
       "    }\n",
       "\n",
       "    .dataframe tbody tr th {\n",
       "        vertical-align: top;\n",
       "    }\n",
       "\n",
       "    .dataframe thead th {\n",
       "        text-align: right;\n",
       "    }\n",
       "</style>\n",
       "<table border=\"1\" class=\"dataframe\">\n",
       "  <thead>\n",
       "    <tr style=\"text-align: right;\">\n",
       "      <th></th>\n",
       "      <th>Iteration</th>\n",
       "      <th>runtime</th>\n",
       "      <th>keyComp</th>\n",
       "    </tr>\n",
       "  </thead>\n",
       "  <tbody>\n",
       "    <tr>\n",
       "      <th>0</th>\n",
       "      <td>1</td>\n",
       "      <td>93.982136</td>\n",
       "      <td>220100039</td>\n",
       "    </tr>\n",
       "    <tr>\n",
       "      <th>1</th>\n",
       "      <td>2</td>\n",
       "      <td>94.036664</td>\n",
       "      <td>220096599</td>\n",
       "    </tr>\n",
       "    <tr>\n",
       "      <th>2</th>\n",
       "      <td>3</td>\n",
       "      <td>94.361888</td>\n",
       "      <td>220102078</td>\n",
       "    </tr>\n",
       "  </tbody>\n",
       "</table>\n",
       "</div>"
      ],
      "text/plain": [
       "   Iteration    runtime    keyComp\n",
       "0          1  93.982136  220100039\n",
       "1          2  94.036664  220096599\n",
       "2          3  94.361888  220102078"
      ]
     },
     "execution_count": 6,
     "metadata": {},
     "output_type": "execute_result"
    }
   ],
   "source": [
    "print(\"Results for Merge Sort\")\n",
    "df_10m_merge\n"
   ]
  },
  {
   "cell_type": "code",
   "execution_count": 7,
   "id": "qE85erfuS2PR",
   "metadata": {
    "colab": {
     "base_uri": "https://localhost:8080/"
    },
    "id": "qE85erfuS2PR",
    "outputId": "271f6523-9ef9-4a3f-9e11-ca8ce02beceb",
    "scrolled": true
   },
   "outputs": [
    {
     "name": "stdout",
     "output_type": "stream",
     "text": [
      "Mean runtime across 3 original Mergesort attempts:\t 94.12689622243245\n",
      "Key Comparisons of original Mergesort:\t\t\t 220100039\n",
      "\n",
      "Mean Runtime of Hybrid Sort with s = 13:\t\t 76.48276734352112\n",
      "Key Comparisons of Hybrid Sort with s = 13:\t\t 226413394\n"
     ]
    }
   ],
   "source": [
    "print(\"Mean runtime across 3 original Mergesort attempts:\\t\", stat.mean(df_10m_merge.runtime))\n",
    "print(\"Key Comparisons of original Mergesort:\\t\\t\\t\", df_10m_merge.keyComp[0])\n",
    "print()\n",
    "print(\"Mean Runtime of Hybrid Sort with s = 13:\\t\\t\", stat.mean(df_10m_hybrid.runtime))\n",
    "print(\"Key Comparisons of Hybrid Sort with s = 13:\\t\\t\", df_10m_hybrid.keyComp[0])"
   ]
  }
 ],
 "metadata": {
  "colab": {
   "provenance": []
  },
  "kernelspec": {
   "display_name": "Python 3 (ipykernel)",
   "language": "python",
   "name": "python3"
  },
  "language_info": {
   "codemirror_mode": {
    "name": "ipython",
    "version": 3
   },
   "file_extension": ".py",
   "mimetype": "text/x-python",
   "name": "python",
   "nbconvert_exporter": "python",
   "pygments_lexer": "ipython3",
   "version": "3.11.5"
  }
 },
 "nbformat": 4,
 "nbformat_minor": 5
}
