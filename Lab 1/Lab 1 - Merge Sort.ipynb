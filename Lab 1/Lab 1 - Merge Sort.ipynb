{
 "cells": [
  {
   "cell_type": "code",
   "execution_count": 1,
   "metadata": {
    "colab": {
     "base_uri": "https://localhost:8080/"
    },
    "id": "FhIcSWzIvuCH",
    "outputId": "e9a86d28-28d5-484c-b614-6faba86eb8be"
   },
   "outputs": [
    {
     "name": "stdout",
     "output_type": "stream",
     "text": [
      "Sorted array: [  0   1   2   2   3   3   4   6   9  10  11  13  13  14  14  16  16  16\n",
      "  17  18  19  20  20  20  21  21  22  22  23  23  24  24  24  24  25  25\n",
      "  25  25  26  26  26  28  30  31  31  32  32  32  34  34  34  36  37  38\n",
      "  38  39  41  42  43  43  44  45  45  45  46  47  48  49  49  50  50  50\n",
      "  50  52  54  55  58  58  59  59  60  61  62  63  68  71  73  74  74  74\n",
      "  75  75  76  79  81  81  83  83  84  84  86  86  88  89  89  90  90  90\n",
      "  92  92  97  98  99 102 102 102 104 105 106 106 107 107 107 107 108 108\n",
      " 108 110 110 111 112 112 114 114 114 114 115 116 117 118 119 120 120 121\n",
      " 121 122 123 123 124 124 124 125 125 125 129 129 129 130 130 131 132 133\n",
      " 134 134 136 138 139 139 141 141 142 142 144 146 148 149 151 152 153 153\n",
      " 154 156 158 159 159 160 165 165 165 165 166 166 166 166 167 168 169 171\n",
      " 172 174 174 175 177 179 182 183 183 184 187 189 191 196 196 198 198 198\n",
      " 199 200 200 200 201 202 202 204 204 205 205 205 209 210 210 211 211 211\n",
      " 212 212 213 214 214 214 217 218 219 219 220 221 221 222 223 223 224 225\n",
      " 225 227 227 228 230 230 233 234 235 236 236 237 238 238 239 242 242 242\n",
      " 243 244 245 246 248 249 249 249 250 254 255 258 259 260 260 261 261 261\n",
      " 263 266 268 269 274 275 276 276 277 277 277 278 280 280 282 282 283 283\n",
      " 284 285 286 287 287 288 289 290 291 292 294 294 295 297 298 300 302 302\n",
      " 303 303 304 305 308 309 309 311 313 315 318 319 323 323 323 324 324 326\n",
      " 327 327 331 332 333 334 335 335 338 339 341 341 341 342 342 344 345 345\n",
      " 346 347 347 347 348 348 349 349 350 351 353 357 358 359 359 359 360 365\n",
      " 366 367 369 369 370 370 370 371 371 372 374 376 376 376 376 378 379 379\n",
      " 380 381 384 384 386 391 392 393 393 394 394 395 395 397 398 400 400 400\n",
      " 401 401 401 402 402 404 404 404 405 406 410 410 411 412 413 414 416 416\n",
      " 417 419 420 421 422 423 424 425 429 430 430 431 433 433 433 434 434 435\n",
      " 436 437 438 438 438 439 439 442 445 446 446 446 447 447 447 447 448 449\n",
      " 451 452 453 453 453 454 454 454 458 458 459 461 464 465 466 466 466 469\n",
      " 470 472 473 476 476 477 479 480 482 482 483 483 483 485 485 485 486 487\n",
      " 489 489 490 493 493 494 494 494 495 495 496 498 498 499 500 500 501 501\n",
      " 501 502 503 503 504 504 505 506 508 508 509 509 509 509 510 513 514 516\n",
      " 516 517 518 522 524 526 527 527 527 528 529 529 530 530 531 533 534 534\n",
      " 535 535 535 536 536 537 537 537 538 538 539 540 540 542 542 544 544 544\n",
      " 545 545 546 547 547 551 552 555 556 556 557 559 559 560 560 562 562 563\n",
      " 563 563 564 565 569 569 571 571 572 572 573 575 578 578 580 583 585 585\n",
      " 586 586 587 587 587 589 590 591 593 593 594 595 595 597 597 598 601 601\n",
      " 602 607 609 609 609 611 614 617 618 619 621 622 625 627 628 628 629 631\n",
      " 632 633 634 635 635 636 636 638 640 641 641 642 644 644 644 645 646 646\n",
      " 647 651 652 652 656 657 657 657 657 658 659 661 663 664 666 666 666 670\n",
      " 672 672 673 674 674 677 678 679 680 681 684 686 688 689 690 691 692 692\n",
      " 692 694 694 696 696 696 698 699 700 701 701 701 702 702 705 706 706 706\n",
      " 707 708 708 710 710 711 713 714 715 717 718 718 718 719 721 721 722 723\n",
      " 725 725 726 728 728 728 729 731 731 732 732 732 733 733 733 738 738 738\n",
      " 738 739 739 740 742 743 744 746 746 748 749 749 751 751 751 753 754 755\n",
      " 756 756 756 757 757 758 759 767 768 769 770 771 773 773 773 774 775 777\n",
      " 779 781 781 782 783 784 786 786 786 787 787 788 790 790 791 793 794 797\n",
      " 798 798 798 798 799 799 799 800 801 803 804 804 804 806 809 809 811 811\n",
      " 812 814 814 815 816 816 817 817 817 819 820 822 824 825 827 828 829 829\n",
      " 834 835 837 838 839 841 842 842 843 843 843 844 845 846 847 848 850 851\n",
      " 851 853 854 854 856 856 858 860 862 863 865 866 866 866 869 870 871 872\n",
      " 873 873 875 876 877 878 880 881 884 885 886 889 889 890 890 891 892 893\n",
      " 893 894 894 895 895 898 899 900 900 900 901 902 903 903 905 905 906 908\n",
      " 910 911 911 912 912 912 912 912 913 913 913 914 916 916 919 919 921 923\n",
      " 924 925 926 928 930 936 940 941 942 943 945 946 948 948 951 954 955 957\n",
      " 958 958 960 961 961 961 964 965 965 966 966 967 969 969 969 969 969 970\n",
      " 970 971 972 973 973 975 975 978 978 979 979 979 979 980 981 982 982 985\n",
      " 989 990 992 992 993 993 995 995 996 999], Key Comparisons: 8363\n"
     ]
    }
   ],
   "source": [
    "import numpy as np\n",
    "\n",
    "def merge(arr, mid):\n",
    "    global keyComp\n",
    "    \n",
    "    i = 0     # First element in left half\n",
    "    j = mid   # First element in right half\n",
    "    temp = 0  # Temporary storage for swapping elements\n",
    "    left = right = 0  # Count for left and right\n",
    "    while (left < len(arr)//2 and right < len(arr)/2): # Loop until at least one half is sorted\n",
    "        if (arr[i] < arr[j]):           # If left < right, shift left pointer\n",
    "            i += 1\n",
    "            left += 1\n",
    "        elif (arr[i] > arr[j]):         # If left > right\n",
    "            temp = arr[j];              # Store right in temp\n",
    "            arr[i+1:j+1] = arr[i:j]     # Shift array one slot right\n",
    "            arr[i] = temp               # Load right into first unsorted element / last sorted element\n",
    "            i += 1\n",
    "            j += 1\n",
    "            right += 1\n",
    "        else:                           # If left == right\n",
    "            arr[i+1:j+1] = arr[i:j]     # Shift unsorted left array one slot right\n",
    "            i += 2                      # increment left pointer two times (2 sorted elements)\n",
    "            j += 1\n",
    "            left += 1\n",
    "            right += 1\n",
    "        keyComp += 1                    # Each iteration of the while loop is 1 Key Comparison\n",
    "    \n",
    "    return arr\n",
    "\n",
    "def merge_sort(arr):\n",
    "    \n",
    "    if len(arr) <= 1: # Trivial Case\n",
    "        return arr\n",
    "\n",
    "    else:\n",
    "        mid = len(arr) // 2\n",
    "        arr[:mid] = merge_sort(arr[:mid]) #Recursively perform merge sort on left half\n",
    "        arr[mid:] = merge_sort(arr[mid:]) #Recursively perform merge sort on right half\n",
    "\n",
    "        arr = merge(arr, mid)\n",
    "\n",
    "        return arr\n",
    "\n",
    "\n",
    "\n",
    "\n",
    "\n",
    "# Example usage:\n",
    "\n",
    "arr = np.random.randint(0,1001, 1000)\n",
    "#arr = [1,9,5,13,3,11,7,15]\n",
    "\n",
    "keyComp = 0\n",
    "\n",
    "#print(f\"Original array: {arr}\")\n",
    "sorted_arr = merge_sort(arr)\n",
    "print(f\"Sorted array: {sorted_arr}, Key Comparisons: {keyComp}\")\n"
   ]
  },
  {
   "cell_type": "code",
   "execution_count": 2,
   "metadata": {
    "colab": {
     "base_uri": "https://localhost:8080/"
    },
    "id": "KdPg0PVU64cJ",
    "outputId": "d7ee5a45-8255-461f-e6b9-b7149d2c9f30"
   },
   "outputs": [
    {
     "data": {
      "text/plain": [
       "True"
      ]
     },
     "execution_count": 2,
     "metadata": {},
     "output_type": "execute_result"
    }
   ],
   "source": [
    "def is_sorted(arr):\n",
    "    if all(arr[i] <= arr[i+1] for i in range(len(arr) - 1)):\n",
    "      return True\n",
    "    else:\n",
    "      return False\n",
    "\n",
    "is_sorted(arr)\n"
   ]
  },
  {
   "cell_type": "code",
   "execution_count": null,
   "metadata": {},
   "outputs": [],
   "source": []
  }
 ],
 "metadata": {
  "colab": {
   "provenance": []
  },
  "kernelspec": {
   "display_name": "Python 3 (ipykernel)",
   "language": "python",
   "name": "python3"
  },
  "language_info": {
   "codemirror_mode": {
    "name": "ipython",
    "version": 3
   },
   "file_extension": ".py",
   "mimetype": "text/x-python",
   "name": "python",
   "nbconvert_exporter": "python",
   "pygments_lexer": "ipython3",
   "version": "3.12.3"
  }
 },
 "nbformat": 4,
 "nbformat_minor": 1
}
